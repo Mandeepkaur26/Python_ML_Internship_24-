{
 "cells": [
  {
   "cell_type": "code",
   "execution_count": null,
   "id": "1a06ebd2-4cc2-4bbc-a5c5-f3bc78e35de7",
   "metadata": {},
   "outputs": [],
   "source": [
    "#Q1 Write a code to print the given pattern.\n",
    "\n",
    "def pattern(n):\n",
    "    for i in range(1, n + 1):      \n",
    "        print(' '*(n - i) * 2, end='')\n",
    "        for j in range(i):\n",
    "            print('* ', end='')\n",
    "        print()\n",
    "rows = 5\n",
    "pattern(rows)"
   ]
  },
  {
   "cell_type": "code",
   "execution_count": null,
   "id": "adbc5955-0c1b-4262-91eb-7b777bdd96be",
   "metadata": {},
   "outputs": [],
   "source": [
    "#Q2\n",
    "\n",
    "def division():\n",
    "    while True:\n",
    "        try:\n",
    "            num1 = float(input(\"Enter ist num: \"))\n",
    "            num2 = float(input(\"Enter ist num: \"))\n",
    "            result = num1/num2\n",
    "            print(result)\n",
    "            break \n",
    "        except ZeroDivisionError:\n",
    "            print(\"Error Division by zero.Please try again\")\n",
    "        except ValueError:\n",
    "            print(\"Invalid input ! Please enter a valid input.\")\n",
    "            \n",
    "if __name__ == \"__main__\":\n",
    "    division()"
   ]
  },
  {
   "cell_type": "code",
   "execution_count": null,
   "id": "8569b0fb-dfb5-4ee5-91be-049fe4e0488d",
   "metadata": {},
   "outputs": [],
   "source": []
  },
  {
   "cell_type": "code",
   "execution_count": null,
   "id": "b5b10de9-8a42-4e92-ba4e-fb9d3d77d0d0",
   "metadata": {},
   "outputs": [],
   "source": []
  }
 ],
 "metadata": {
  "kernelspec": {
   "display_name": "Python 3 (ipykernel)",
   "language": "python",
   "name": "python3"
  },
  "language_info": {
   "codemirror_mode": {
    "name": "ipython",
    "version": 3
   },
   "file_extension": ".py",
   "mimetype": "text/x-python",
   "name": "python",
   "nbconvert_exporter": "python",
   "pygments_lexer": "ipython3",
   "version": "3.12.4"
  }
 },
 "nbformat": 4,
 "nbformat_minor": 5
}
