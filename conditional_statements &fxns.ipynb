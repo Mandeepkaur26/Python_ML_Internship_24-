{
 "cells": [
  {
   "cell_type": "code",
   "execution_count": 1,
   "id": "b236254f-88ac-4f53-8d4d-24b6f79ec303",
   "metadata": {},
   "outputs": [
    {
     "name": "stdin",
     "output_type": "stream",
     "text": [
      "Enter your Expression:  7+8\n"
     ]
    },
    {
     "name": "stdout",
     "output_type": "stream",
     "text": [
      "15.0\n"
     ]
    }
   ],
   "source": [
    "#Calculator \n",
    "\n",
    "str=input(\"Enter your Expression: \")\n",
    "op = \"\"\n",
    "for i in str:\n",
    "    if i in \"+-*/\":\n",
    "        op=i\n",
    "        str=str.replace(op,\" \")\n",
    "        L = str.split(\" \")\n",
    "    \n",
    "if op == '+':\n",
    "    print(float(L[0])+float(L[1]))\n",
    "elif op == '-':\n",
    "    print(float(L[0])-float(L[1]))\n",
    "elif op == '*':\n",
    "    print(float(L[0])*float(L[1]))\n",
    "elif op == '/':\n",
    "    print(float(L[0])/float(L[1]))\n",
    "else :\n",
    "    print(\"Invalid\")\n",
    "                   "
   ]
  },
  {
   "cell_type": "code",
   "execution_count": 2,
   "id": "68000ed4-afff-4c8c-8005-5932ff7eb5a9",
   "metadata": {},
   "outputs": [
    {
     "name": "stdout",
     "output_type": "stream",
     "text": [
      "{'A': 1}\n",
      "{'A': 1, 'B': 1}\n",
      "{'A': 2, 'B': 2, 'C': 1}\n",
      "{'A': 2, 'B': 3, 'C': 1, 'D': 1}\n"
     ]
    }
   ],
   "source": [
    "#given a dictionary with some keywords with some values so check the occurence of values.\n",
    "\n",
    "dIP = {\"S1\":\"A\",\"S2\":\"B\", \"S3\":\"A\", \"S4\":\"B\", \"S5\":\"C\", \"S6\":\"B\", \"S7\":\"D\"}\n",
    "#print(dIP)\n",
    "dOP = {}\n",
    "\n",
    "for i in dIP.values():\n",
    "    if i in dOP.keys():\n",
    "        dOP[i]=dOP[i]+1\n",
    "    else:\n",
    "        dOP[i]=1\n",
    "        print(dOP)\n"
   ]
  },
  {
   "cell_type": "code",
   "execution_count": 8,
   "id": "15577fad-1cf9-4c41-9440-80b15a56bf9a",
   "metadata": {},
   "outputs": [
    {
     "ename": "NameError",
     "evalue": "name 'result' is not defined",
     "output_type": "error",
     "traceback": [
      "\u001b[1;31m---------------------------------------------------------------------------\u001b[0m",
      "\u001b[1;31mNameError\u001b[0m                                 Traceback (most recent call last)",
      "Cell \u001b[1;32mIn[8], line 8\u001b[0m\n\u001b[0;32m      6\u001b[0m \u001b[38;5;28;01mif\u001b[39;00m \u001b[38;5;18m__name__\u001b[39m\u001b[38;5;241m==\u001b[39m\u001b[38;5;124m\"\u001b[39m\u001b[38;5;124mmain__\u001b[39m\u001b[38;5;124m\"\u001b[39m:\n\u001b[0;32m      7\u001b[0m     result \u001b[38;5;241m=\u001b[39m addnum(\u001b[38;5;241m2\u001b[39m,\u001b[38;5;241m5\u001b[39m)\n\u001b[1;32m----> 8\u001b[0m \u001b[38;5;28mprint\u001b[39m(\u001b[43mresult\u001b[49m)\n",
      "\u001b[1;31mNameError\u001b[0m: name 'result' is not defined"
     ]
    }
   ],
   "source": [
    "#function-parameterized fxn :to add 2 numbers. \n",
    "\n",
    "def addnum(a,b):\n",
    "    c=a+b\n",
    "    return c\n",
    "if __name__==\"main__\":\n",
    "    result = addnum(2,5)\n",
    "print(result)"
   ]
  },
  {
   "cell_type": "code",
   "execution_count": 5,
   "id": "877aee71-8113-4996-a31b-e3e10066ecbd",
   "metadata": {},
   "outputs": [],
   "source": [
    "#function-non parameterized fxn :to add 2 numbers. \n",
    "\n",
    "def addnum():\n",
    "    a=int(input())\n",
    "    b=int(input())\n",
    "    c=a+b\n",
    "    print(c)\n",
    "if __name__==\"main__\":\n",
    "    addnum()"
   ]
  },
  {
   "cell_type": "code",
   "execution_count": 6,
   "id": "12081e96-9eac-4a43-92cb-72d179ce2aea",
   "metadata": {},
   "outputs": [],
   "source": [
    "#To check given number is prime or not.\n",
    "\n",
    "def checkprime(n):\n",
    "    flag = 0\n",
    "    if n<1:\n",
    "        flag =2\n",
    "        return flag\n",
    "    if n in [1,2,3]:\n",
    "        return flag\n",
    "    for i in range(2,(n//2+1)):   #// - floor decimal\n",
    "        if n%i==0:\n",
    "         flag=1\n",
    "         return flag\n",
    "    return flag      \n",
    "\n",
    "if __name__==\"main__\":\n",
    "    n=int(input(\"Enter the Number: \"))\n",
    "    result = checkprime(n)\n",
    "    if result == 0:\n",
    "        print(\"The number is Prime or Special Case\")\n",
    "    elif result == 1:\n",
    "        print(\"The number is Non Prime\")\n",
    "    else:\n",
    "        print(\"Invalid Input\")\n"
   ]
  },
  {
   "cell_type": "code",
   "execution_count": 7,
   "id": "6cc4f351-6be4-40db-8218-b0f335bcf53c",
   "metadata": {},
   "outputs": [],
   "source": [
    "#CLASS\n",
    "\n",
    "class ABC:\n",
    "    def __init__(self): #Private __(two underscore)\n",
    "        self.a=0        #Public\n",
    "        self.L=[]      #Public\n",
    "        self.C=\"\"      #Public  \n",
    "        def abc(self):\n",
    "            print(self.a)\n",
    "            print(self.L)\n",
    "            print(self.C)\n",
    "if __name__==\"main__\":   #Protected (one underscore)\n",
    "    obj=ABC()\n",
    "    obj.abc()\n",
    "    print(type(obj))\n"
   ]
  },
  {
   "cell_type": "code",
   "execution_count": null,
   "id": "5f642be5-58c1-4050-b58d-17180d52091c",
   "metadata": {},
   "outputs": [],
   "source": []
  }
 ],
 "metadata": {
  "kernelspec": {
   "display_name": "Python 3 (ipykernel)",
   "language": "python",
   "name": "python3"
  },
  "language_info": {
   "codemirror_mode": {
    "name": "ipython",
    "version": 3
   },
   "file_extension": ".py",
   "mimetype": "text/x-python",
   "name": "python",
   "nbconvert_exporter": "python",
   "pygments_lexer": "ipython3",
   "version": "3.12.4"
  }
 },
 "nbformat": 4,
 "nbformat_minor": 5
}
