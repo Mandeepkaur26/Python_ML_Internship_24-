{
 "cells": [
  {
   "cell_type": "code",
   "execution_count": 6,
   "id": "384e7152-a3ae-4fa7-a0bc-c13de4c01136",
   "metadata": {},
   "outputs": [],
   "source": [
    "import numpy as np"
   ]
  },
  {
   "cell_type": "code",
   "execution_count": 7,
   "id": "ea206a03-0483-490f-ab10-0a9338c8fc72",
   "metadata": {},
   "outputs": [
    {
     "data": {
      "text/plain": [
       "array([1, 2, 3, 4, 5])"
      ]
     },
     "execution_count": 7,
     "metadata": {},
     "output_type": "execute_result"
    }
   ],
   "source": [
    "arr = np.array([1,2,3,4,5])\n",
    "arr"
   ]
  },
  {
   "cell_type": "code",
   "execution_count": 8,
   "id": "e0e3722d-a1e3-439c-bbb8-bba89453b6af",
   "metadata": {},
   "outputs": [
    {
     "name": "stdout",
     "output_type": "stream",
     "text": [
      "int64\n"
     ]
    }
   ],
   "source": [
    "print(arr.dtype)"
   ]
  },
  {
   "cell_type": "code",
   "execution_count": 9,
   "id": "c65be5d1-5f09-4da1-b869-a25367109ed5",
   "metadata": {},
   "outputs": [
    {
     "data": {
      "text/plain": [
       "array([1, 2, 3, 4, 5], dtype=int16)"
      ]
     },
     "execution_count": 9,
     "metadata": {},
     "output_type": "execute_result"
    }
   ],
   "source": [
    "arr2 = np.array([1,2,3,4,5],dtype=np.int16)\n",
    "arr2"
   ]
  },
  {
   "cell_type": "code",
   "execution_count": 10,
   "id": "4e917894-af95-49ce-945f-327db2a1f5fe",
   "metadata": {},
   "outputs": [
    {
     "data": {
      "text/plain": [
       "array([0., 0., 0., 0., 0.])"
      ]
     },
     "execution_count": 10,
     "metadata": {},
     "output_type": "execute_result"
    }
   ],
   "source": [
    "Z=np.zeros(5)\n",
    "Z"
   ]
  },
  {
   "cell_type": "code",
   "execution_count": 11,
   "id": "8669f137-170b-4091-8501-285934b2a660",
   "metadata": {},
   "outputs": [
    {
     "data": {
      "text/plain": [
       "array([0, 1, 2, 3, 4, 5, 6, 7, 8, 9])"
      ]
     },
     "execution_count": 11,
     "metadata": {},
     "output_type": "execute_result"
    }
   ],
   "source": [
    "ar=np.arange(0,10,1)\n",
    "ar"
   ]
  },
  {
   "cell_type": "code",
   "execution_count": 12,
   "id": "37366abd-60bd-422c-972e-9a94b88d1bae",
   "metadata": {},
   "outputs": [
    {
     "data": {
      "text/plain": [
       "array([0.97052118, 0.09486066, 0.31674302, 0.98920383])"
      ]
     },
     "execution_count": 12,
     "metadata": {},
     "output_type": "execute_result"
    }
   ],
   "source": [
    "ran=np.random.rand(4)\n",
    "ran"
   ]
  },
  {
   "cell_type": "code",
   "execution_count": 13,
   "id": "4d273de1-e2b4-437d-adbc-202dc7089d09",
   "metadata": {},
   "outputs": [
    {
     "data": {
      "text/plain": [
       "array([  0.        ,  11.11111111,  22.22222222,  33.33333333,\n",
       "        44.44444444,  55.55555556,  66.66666667,  77.77777778,\n",
       "        88.88888889, 100.        ])"
      ]
     },
     "execution_count": 13,
     "metadata": {},
     "output_type": "execute_result"
    }
   ],
   "source": [
    "ln=np.linspace(0,100,10)\n",
    "ln"
   ]
  },
  {
   "cell_type": "markdown",
   "id": "367700af-f0aa-4696-9948-46abeeb0f2e8",
   "metadata": {},
   "source": [
    "**2D ARRAYS**"
   ]
  },
  {
   "cell_type": "code",
   "execution_count": 14,
   "id": "dbb35729-ad86-4406-9221-eede5fbc031a",
   "metadata": {},
   "outputs": [
    {
     "data": {
      "text/plain": [
       "array([[1, 2, 3],\n",
       "       [4, 5, 6],\n",
       "       [7, 8, 9]])"
      ]
     },
     "execution_count": 14,
     "metadata": {},
     "output_type": "execute_result"
    }
   ],
   "source": [
    "ar2=np.array([[1,2,3],[4,5,6],[7,8,9]])\n",
    "ar2"
   ]
  },
  {
   "cell_type": "code",
   "execution_count": 15,
   "id": "58109d95-d090-4b8a-98aa-1168dbdfefdd",
   "metadata": {},
   "outputs": [
    {
     "data": {
      "text/plain": [
       "array([[0., 0., 0., 0., 0.],\n",
       "       [0., 0., 0., 0., 0.],\n",
       "       [0., 0., 0., 0., 0.],\n",
       "       [0., 0., 0., 0., 0.],\n",
       "       [0., 0., 0., 0., 0.]])"
      ]
     },
     "execution_count": 15,
     "metadata": {},
     "output_type": "execute_result"
    }
   ],
   "source": [
    "z1=np.zeros([5,5])\n",
    "z1"
   ]
  },
  {
   "cell_type": "code",
   "execution_count": 16,
   "id": "21a354de-6d5b-4f1a-bdb3-3ba01c523556",
   "metadata": {},
   "outputs": [
    {
     "data": {
      "text/plain": [
       "array([[1., 1., 1., 1., 1.],\n",
       "       [1., 1., 1., 1., 1.],\n",
       "       [1., 1., 1., 1., 1.],\n",
       "       [1., 1., 1., 1., 1.],\n",
       "       [1., 1., 1., 1., 1.]])"
      ]
     },
     "execution_count": 16,
     "metadata": {},
     "output_type": "execute_result"
    }
   ],
   "source": [
    "o1=np.ones([5,5])\n",
    "o1"
   ]
  },
  {
   "cell_type": "code",
   "execution_count": 17,
   "id": "b8c92865-3ecb-4070-912b-a5d9a68932eb",
   "metadata": {},
   "outputs": [
    {
     "data": {
      "text/plain": [
       "array([[1., 0., 0., 0., 0.],\n",
       "       [0., 1., 0., 0., 0.],\n",
       "       [0., 0., 1., 0., 0.],\n",
       "       [0., 0., 0., 1., 0.],\n",
       "       [0., 0., 0., 0., 1.]])"
      ]
     },
     "execution_count": 17,
     "metadata": {},
     "output_type": "execute_result"
    }
   ],
   "source": [
    "I=np.eye(5)\n",
    "I"
   ]
  },
  {
   "cell_type": "code",
   "execution_count": 18,
   "id": "9ed17cc4-66b1-4d8b-b016-6b960623bde1",
   "metadata": {},
   "outputs": [
    {
     "data": {
      "text/plain": [
       "array([[0.4357444 , 0.00788536, 0.84481513, 0.0101962 , 0.27698872],\n",
       "       [0.03258219, 0.72446789, 0.30842598, 0.74799036, 0.96630582],\n",
       "       [0.16705234, 0.88528916, 0.04574329, 0.23587352, 0.09335102],\n",
       "       [0.10508753, 0.61584672, 0.99836882, 0.98598015, 0.74396058]])"
      ]
     },
     "execution_count": 18,
     "metadata": {},
     "output_type": "execute_result"
    }
   ],
   "source": [
    "r1=np.random.rand(4,5)\n",
    "r1"
   ]
  },
  {
   "cell_type": "code",
   "execution_count": 19,
   "id": "bb3fdf14-e019-4ab4-a60b-10a251689e1f",
   "metadata": {},
   "outputs": [
    {
     "data": {
      "text/plain": [
       "array([[1, 2, 3],\n",
       "       [4, 5, 6],\n",
       "       [7, 8, 9]])"
      ]
     },
     "execution_count": 19,
     "metadata": {},
     "output_type": "execute_result"
    }
   ],
   "source": [
    "ar\n",
    "ar2"
   ]
  },
  {
   "cell_type": "code",
   "execution_count": 20,
   "id": "7565f63a-b3d5-4d65-8b05-984dedc89e1e",
   "metadata": {},
   "outputs": [
    {
     "data": {
      "text/plain": [
       "array([0, 1, 2, 3, 4, 5, 6, 7, 8, 9])"
      ]
     },
     "execution_count": 20,
     "metadata": {},
     "output_type": "execute_result"
    }
   ],
   "source": [
    "ar"
   ]
  },
  {
   "cell_type": "code",
   "execution_count": 21,
   "id": "677fcbb7-2174-4dee-832a-9c47a2a0456f",
   "metadata": {},
   "outputs": [
    {
     "data": {
      "text/plain": [
       "array([[1, 2, 3],\n",
       "       [4, 5, 6],\n",
       "       [7, 8, 9]])"
      ]
     },
     "execution_count": 21,
     "metadata": {},
     "output_type": "execute_result"
    }
   ],
   "source": [
    "ar2"
   ]
  },
  {
   "cell_type": "code",
   "execution_count": 22,
   "id": "20d76a7b-a40f-452c-822c-1a028fa90fec",
   "metadata": {},
   "outputs": [
    {
     "name": "stdout",
     "output_type": "stream",
     "text": [
      "10\n"
     ]
    }
   ],
   "source": [
    "print(ar.size)"
   ]
  },
  {
   "cell_type": "code",
   "execution_count": 23,
   "id": "f8bf2dee-5939-43e8-ad5f-62e15965cf22",
   "metadata": {},
   "outputs": [
    {
     "name": "stdout",
     "output_type": "stream",
     "text": [
      "9\n"
     ]
    }
   ],
   "source": [
    "print(ar2.size)"
   ]
  },
  {
   "cell_type": "code",
   "execution_count": 24,
   "id": "f3029c30-213a-4d56-b63a-94a0c9865faf",
   "metadata": {},
   "outputs": [
    {
     "name": "stdout",
     "output_type": "stream",
     "text": [
      "(10,)\n"
     ]
    }
   ],
   "source": [
    "print(ar.shape)"
   ]
  },
  {
   "cell_type": "code",
   "execution_count": 25,
   "id": "8ad01726-25d4-48dd-af16-3d45072b850e",
   "metadata": {},
   "outputs": [
    {
     "name": "stdout",
     "output_type": "stream",
     "text": [
      "(3, 3)\n"
     ]
    }
   ],
   "source": [
    "print(ar2.shape)"
   ]
  },
  {
   "cell_type": "markdown",
   "id": "2a71bd90-b444-44c1-8a7b-ca58c669279a",
   "metadata": {},
   "source": [
    "**OPERATIONS IN ARRAY**COPY RESHAPE SORT"
   ]
  },
  {
   "cell_type": "code",
   "execution_count": 26,
   "id": "277e3f35-0a5c-4ea5-bc65-41afd54ab924",
   "metadata": {},
   "outputs": [
    {
     "data": {
      "text/plain": [
       "array([[1, 2, 3],\n",
       "       [4, 5, 6],\n",
       "       [7, 8, 9]])"
      ]
     },
     "execution_count": 26,
     "metadata": {},
     "output_type": "execute_result"
    }
   ],
   "source": [
    "ar3=np.copy(ar2)\n",
    "ar3"
   ]
  },
  {
   "cell_type": "code",
   "execution_count": 27,
   "id": "f4f9b60e-3815-4f53-b893-3a69522b3b9b",
   "metadata": {},
   "outputs": [],
   "source": [
    "ar3[2,2]=10"
   ]
  },
  {
   "cell_type": "code",
   "execution_count": 28,
   "id": "af2da472-b616-497c-b11e-47cf321c3219",
   "metadata": {},
   "outputs": [
    {
     "data": {
      "text/plain": [
       "array([[ 1,  2,  3],\n",
       "       [ 4,  5,  6],\n",
       "       [ 7,  8, 10]])"
      ]
     },
     "execution_count": 28,
     "metadata": {},
     "output_type": "execute_result"
    }
   ],
   "source": [
    "ar3"
   ]
  },
  {
   "cell_type": "code",
   "execution_count": 29,
   "id": "1359c638-564a-43f3-afea-b5a1e7e3a7d6",
   "metadata": {},
   "outputs": [
    {
     "data": {
      "text/plain": [
       "array([[ 1, 15,  3],\n",
       "       [ 4,  5, 12],\n",
       "       [ 7,  8, 10]])"
      ]
     },
     "execution_count": 29,
     "metadata": {},
     "output_type": "execute_result"
    }
   ],
   "source": [
    "ar3[1,2]=12\n",
    "ar3[0,1]=15\n",
    "ar3"
   ]
  },
  {
   "cell_type": "code",
   "execution_count": 30,
   "id": "5aa9be88-b1a8-4e77-a951-a50e2bcb7ee3",
   "metadata": {},
   "outputs": [
    {
     "data": {
      "text/plain": [
       "array([[ 1,  3, 15],\n",
       "       [ 4,  5, 12],\n",
       "       [ 7,  8, 10]])"
      ]
     },
     "execution_count": 30,
     "metadata": {},
     "output_type": "execute_result"
    }
   ],
   "source": [
    "ar3=np.sort(ar3)\n",
    "ar3\n"
   ]
  },
  {
   "cell_type": "code",
   "execution_count": 31,
   "id": "44273181-ad4e-4389-9501-d9218d7fc312",
   "metadata": {},
   "outputs": [
    {
     "data": {
      "text/plain": [
       "array([[ 1,  3, 10],\n",
       "       [ 4,  5, 12],\n",
       "       [ 7,  8, 15]])"
      ]
     },
     "execution_count": 31,
     "metadata": {},
     "output_type": "execute_result"
    }
   ],
   "source": [
    "ar3=np.sort(ar3,axis=0)\n",
    "ar3"
   ]
  },
  {
   "cell_type": "code",
   "execution_count": 32,
   "id": "d45f56b9-5e7e-4aca-beac-903bd34cfac7",
   "metadata": {},
   "outputs": [
    {
     "data": {
      "text/plain": [
       "np.int64(65)"
      ]
     },
     "execution_count": 32,
     "metadata": {},
     "output_type": "execute_result"
    }
   ],
   "source": [
    "ar3.sum()"
   ]
  },
  {
   "cell_type": "code",
   "execution_count": 33,
   "id": "d5a61d6d-b93d-498a-8db4-2d7842f96ca9",
   "metadata": {},
   "outputs": [
    {
     "data": {
      "text/plain": [
       "array([12, 16, 37])"
      ]
     },
     "execution_count": 33,
     "metadata": {},
     "output_type": "execute_result"
    }
   ],
   "source": [
    "ar3.sum(axis=0)"
   ]
  },
  {
   "cell_type": "code",
   "execution_count": 34,
   "id": "939d1a09-628e-42fa-86cd-863dff138b0c",
   "metadata": {},
   "outputs": [
    {
     "data": {
      "text/plain": [
       "array([14, 21, 30])"
      ]
     },
     "execution_count": 34,
     "metadata": {},
     "output_type": "execute_result"
    }
   ],
   "source": [
    "ar3.sum(axis=1)"
   ]
  },
  {
   "cell_type": "code",
   "execution_count": 35,
   "id": "96b54ad5-8a1c-4339-ace3-0e92d9af9933",
   "metadata": {},
   "outputs": [
    {
     "data": {
      "text/plain": [
       "array([0.70992085, 0.82072995, 0.46848903, 0.73345591, 0.84379859,\n",
       "       0.72424687, 0.10033381, 0.87134199, 0.70858813, 0.45827687,\n",
       "       0.86944245, 0.54444532, 0.5538288 , 0.29789516, 0.52789647,\n",
       "       0.86528144, 0.53121972, 0.23346524, 0.28499613, 0.80432004,\n",
       "       0.67166896, 0.83221991, 0.15638103, 0.58722994, 0.27536536,\n",
       "       0.12773165, 0.47183208, 0.89102586, 0.5382469 , 0.31772499,\n",
       "       0.17655734, 0.01000097, 0.36738066, 0.90935183, 0.05692884,\n",
       "       0.78241803, 0.24174003, 0.53805178, 0.77953945, 0.85479385,\n",
       "       0.81218113, 0.06361923, 0.55328425, 0.44917649, 0.91328352,\n",
       "       0.41836822, 0.80638538, 0.59544595, 0.78895844, 0.03341558,\n",
       "       0.34384859, 0.55777259, 0.32153408, 0.15629452, 0.67531255,\n",
       "       0.73738117, 0.60493845, 0.38426234, 0.14664674, 0.62084058,\n",
       "       0.72473312, 0.24598193, 0.60056771, 0.94212343, 0.54217415,\n",
       "       0.22373431, 0.57969193, 0.99047521, 0.73574804, 0.38178275,\n",
       "       0.85144591, 0.25838733, 0.21406254, 0.68264976, 0.71585669,\n",
       "       0.32963076, 0.54975823, 0.36686559, 0.54535504, 0.81577132,\n",
       "       0.82609108, 0.67225559, 0.48451428, 0.90718387, 0.72594157,\n",
       "       0.93720303, 0.54559084, 0.27166984, 0.00398651, 0.95282967,\n",
       "       0.12279705, 0.69374016, 0.70836493, 0.14172016, 0.70503218,\n",
       "       0.612961  , 0.30274052, 0.79721318, 0.90966222])"
      ]
     },
     "execution_count": 35,
     "metadata": {},
     "output_type": "execute_result"
    }
   ],
   "source": [
    "ar4=np.random.rand(99)\n",
    "ar4"
   ]
  },
  {
   "cell_type": "code",
   "execution_count": 36,
   "id": "4998be40-fc1e-4a3b-9e95-3ff20a6cad11",
   "metadata": {},
   "outputs": [
    {
     "data": {
      "text/plain": [
       "99"
      ]
     },
     "execution_count": 36,
     "metadata": {},
     "output_type": "execute_result"
    }
   ],
   "source": [
    "ar4.size"
   ]
  },
  {
   "cell_type": "code",
   "execution_count": 37,
   "id": "c0608422-e396-445d-8449-94fa6fc9334d",
   "metadata": {},
   "outputs": [],
   "source": [
    "ar4=ar4.reshape(11,9)"
   ]
  },
  {
   "cell_type": "code",
   "execution_count": 38,
   "id": "0f508812-aec9-449d-bb00-090f4257669d",
   "metadata": {},
   "outputs": [
    {
     "data": {
      "text/plain": [
       "99"
      ]
     },
     "execution_count": 38,
     "metadata": {},
     "output_type": "execute_result"
    }
   ],
   "source": [
    "ar4.size"
   ]
  },
  {
   "cell_type": "code",
   "execution_count": 39,
   "id": "def50b61-0653-476f-9e2e-3af081d17706",
   "metadata": {},
   "outputs": [
    {
     "data": {
      "text/plain": [
       "(11, 9)"
      ]
     },
     "execution_count": 39,
     "metadata": {},
     "output_type": "execute_result"
    }
   ],
   "source": [
    "ar4.shape"
   ]
  },
  {
   "cell_type": "code",
   "execution_count": 40,
   "id": "e681b224-4ddf-47e3-bb0c-0c8ca05be09d",
   "metadata": {},
   "outputs": [
    {
     "data": {
      "text/plain": [
       "array([[0.70992085, 0.82072995, 0.46848903, 0.73345591, 0.84379859,\n",
       "        0.72424687, 0.10033381, 0.87134199, 0.70858813],\n",
       "       [0.45827687, 0.86944245, 0.54444532, 0.5538288 , 0.29789516,\n",
       "        0.52789647, 0.86528144, 0.53121972, 0.23346524],\n",
       "       [0.28499613, 0.80432004, 0.67166896, 0.83221991, 0.15638103,\n",
       "        0.58722994, 0.27536536, 0.12773165, 0.47183208],\n",
       "       [0.89102586, 0.5382469 , 0.31772499, 0.17655734, 0.01000097,\n",
       "        0.36738066, 0.90935183, 0.05692884, 0.78241803],\n",
       "       [0.24174003, 0.53805178, 0.77953945, 0.85479385, 0.81218113,\n",
       "        0.06361923, 0.55328425, 0.44917649, 0.91328352],\n",
       "       [0.41836822, 0.80638538, 0.59544595, 0.78895844, 0.03341558,\n",
       "        0.34384859, 0.55777259, 0.32153408, 0.15629452],\n",
       "       [0.67531255, 0.73738117, 0.60493845, 0.38426234, 0.14664674,\n",
       "        0.62084058, 0.72473312, 0.24598193, 0.60056771],\n",
       "       [0.94212343, 0.54217415, 0.22373431, 0.57969193, 0.99047521,\n",
       "        0.73574804, 0.38178275, 0.85144591, 0.25838733],\n",
       "       [0.21406254, 0.68264976, 0.71585669, 0.32963076, 0.54975823,\n",
       "        0.36686559, 0.54535504, 0.81577132, 0.82609108],\n",
       "       [0.67225559, 0.48451428, 0.90718387, 0.72594157, 0.93720303,\n",
       "        0.54559084, 0.27166984, 0.00398651, 0.95282967],\n",
       "       [0.12279705, 0.69374016, 0.70836493, 0.14172016, 0.70503218,\n",
       "        0.612961  , 0.30274052, 0.79721318, 0.90966222]])"
      ]
     },
     "execution_count": 40,
     "metadata": {},
     "output_type": "execute_result"
    }
   ],
   "source": [
    "ar4"
   ]
  },
  {
   "cell_type": "code",
   "execution_count": 41,
   "id": "6a0fdbe1-5a84-4b62-af57-a32b6a4335d0",
   "metadata": {},
   "outputs": [
    {
     "data": {
      "text/plain": [
       "array([[ 1,  3, 10],\n",
       "       [ 4,  5, 12],\n",
       "       [ 7,  8, 15]])"
      ]
     },
     "execution_count": 41,
     "metadata": {},
     "output_type": "execute_result"
    }
   ],
   "source": [
    "ar3"
   ]
  },
  {
   "cell_type": "code",
   "execution_count": 42,
   "id": "f71669f7-e7c2-4802-b732-115be3a7e852",
   "metadata": {},
   "outputs": [
    {
     "data": {
      "text/plain": [
       "array([[ 1,  4,  7],\n",
       "       [ 3,  5,  8],\n",
       "       [10, 12, 15]])"
      ]
     },
     "execution_count": 42,
     "metadata": {},
     "output_type": "execute_result"
    }
   ],
   "source": [
    "ar3=ar3.T\n",
    "ar3"
   ]
  },
  {
   "cell_type": "code",
   "execution_count": 43,
   "id": "c1a39f40-79eb-4b69-ae73-5dc59ca173a5",
   "metadata": {},
   "outputs": [
    {
     "data": {
      "text/plain": [
       "array([0, 1, 2, 3, 4, 5, 6, 7, 8, 9])"
      ]
     },
     "execution_count": 43,
     "metadata": {},
     "output_type": "execute_result"
    }
   ],
   "source": [
    "ar"
   ]
  },
  {
   "cell_type": "code",
   "execution_count": 44,
   "id": "9eae7300-1be6-4c31-8c5c-91d55480de59",
   "metadata": {},
   "outputs": [
    {
     "data": {
      "text/plain": [
       "array([ 0,  1,  2,  3,  4,  5,  6,  7,  8,  9, 10])"
      ]
     },
     "execution_count": 44,
     "metadata": {},
     "output_type": "execute_result"
    }
   ],
   "source": [
    "np.append(ar,10)"
   ]
  },
  {
   "cell_type": "code",
   "execution_count": 45,
   "id": "41aad729-5a59-4ffb-9533-9451ca5d8d71",
   "metadata": {},
   "outputs": [
    {
     "data": {
      "text/plain": [
       "array([0, 1, 2, 3, 4, 5, 6, 7, 8, 9])"
      ]
     },
     "execution_count": 45,
     "metadata": {},
     "output_type": "execute_result"
    }
   ],
   "source": [
    "ar"
   ]
  },
  {
   "cell_type": "code",
   "execution_count": 46,
   "id": "d055c046-aca4-4040-b977-dbbb633c36e2",
   "metadata": {},
   "outputs": [],
   "source": [
    "ar=np.delete(ar,6,axis=0)"
   ]
  },
  {
   "cell_type": "code",
   "execution_count": 47,
   "id": "3eb1bdd9-d7d5-4863-b2b3-e34e9d39d986",
   "metadata": {},
   "outputs": [
    {
     "data": {
      "text/plain": [
       "array([0, 1, 2, 3, 4, 5, 7, 8, 9])"
      ]
     },
     "execution_count": 47,
     "metadata": {},
     "output_type": "execute_result"
    }
   ],
   "source": [
    "ar"
   ]
  },
  {
   "cell_type": "code",
   "execution_count": 48,
   "id": "241ce66b-d389-4757-8f42-6aa73ebc6836",
   "metadata": {},
   "outputs": [
    {
     "data": {
      "text/plain": [
       "array([0, 1, 2, 3, 4, 5, 6, 7, 8, 9])"
      ]
     },
     "execution_count": 48,
     "metadata": {},
     "output_type": "execute_result"
    }
   ],
   "source": [
    "ar=np.insert(ar,6,6)\n",
    "ar"
   ]
  },
  {
   "cell_type": "code",
   "execution_count": 49,
   "id": "9c4db3c7-339f-4d21-8318-d535647acaf7",
   "metadata": {},
   "outputs": [
    {
     "data": {
      "text/plain": [
       "array([[1, 2, 3],\n",
       "       [4, 5, 6],\n",
       "       [7, 8, 9]])"
      ]
     },
     "execution_count": 49,
     "metadata": {},
     "output_type": "execute_result"
    }
   ],
   "source": [
    "ar2"
   ]
  },
  {
   "cell_type": "code",
   "execution_count": 50,
   "id": "c1afd09f-2e5d-48fa-b14d-d627030670c4",
   "metadata": {},
   "outputs": [
    {
     "data": {
      "text/plain": [
       "array([[ 1,  4,  7],\n",
       "       [ 3,  5,  8],\n",
       "       [10, 12, 15]])"
      ]
     },
     "execution_count": 50,
     "metadata": {},
     "output_type": "execute_result"
    }
   ],
   "source": [
    "ar3"
   ]
  },
  {
   "cell_type": "code",
   "execution_count": 51,
   "id": "3b43bb75-038b-4166-8109-7165ac5fd644",
   "metadata": {},
   "outputs": [
    {
     "data": {
      "text/plain": [
       "array([[ 1,  2,  3],\n",
       "       [ 4,  5,  6],\n",
       "       [ 7,  8,  9],\n",
       "       [ 1,  4,  7],\n",
       "       [ 3,  5,  8],\n",
       "       [10, 12, 15]])"
      ]
     },
     "execution_count": 51,
     "metadata": {},
     "output_type": "execute_result"
    }
   ],
   "source": [
    "ar4=np.concatenate((ar2,ar3),axis=0)\n",
    "ar4"
   ]
  },
  {
   "cell_type": "code",
   "execution_count": 52,
   "id": "aef19fc2-2495-4713-8d7e-e30b9db085c3",
   "metadata": {},
   "outputs": [
    {
     "data": {
      "text/plain": [
       "array([[ 1,  2,  3,  1,  4,  7],\n",
       "       [ 4,  5,  6,  3,  5,  8],\n",
       "       [ 7,  8,  9, 10, 12, 15]])"
      ]
     },
     "execution_count": 52,
     "metadata": {},
     "output_type": "execute_result"
    }
   ],
   "source": [
    "ar5=np.concatenate((ar2,ar3),axis=1)\n",
    "ar5"
   ]
  },
  {
   "cell_type": "code",
   "execution_count": 53,
   "id": "9393aec3-e670-4020-bcc5-a2f416da8922",
   "metadata": {},
   "outputs": [
    {
     "data": {
      "text/plain": [
       "[array([[1, 2, 3],\n",
       "        [4, 5, 6]]),\n",
       " array([[7, 8, 9],\n",
       "        [1, 4, 7]]),\n",
       " array([[ 3,  5,  8],\n",
       "        [10, 12, 15]])]"
      ]
     },
     "execution_count": 53,
     "metadata": {},
     "output_type": "execute_result"
    }
   ],
   "source": [
    "np.split(ar4,3)"
   ]
  },
  {
   "cell_type": "code",
   "execution_count": 54,
   "id": "6b23a15f-a4a4-4ef7-92ff-6b1957b038c1",
   "metadata": {},
   "outputs": [
    {
     "data": {
      "text/plain": [
       "[array([[1, 2, 3],\n",
       "        [4, 5, 6]]),\n",
       " array([[7, 8, 9],\n",
       "        [1, 4, 7]]),\n",
       " array([[ 3,  5,  8],\n",
       "        [10, 12, 15]])]"
      ]
     },
     "execution_count": 54,
     "metadata": {},
     "output_type": "execute_result"
    }
   ],
   "source": [
    "ar6=np.split(ar4,3)\n",
    "ar6"
   ]
  },
  {
   "cell_type": "code",
   "execution_count": 55,
   "id": "0a5911a4-9042-4c02-9fb9-f87b908d26c4",
   "metadata": {},
   "outputs": [
    {
     "data": {
      "text/plain": [
       "array([[1, 2, 3],\n",
       "       [4, 5, 6]])"
      ]
     },
     "execution_count": 55,
     "metadata": {},
     "output_type": "execute_result"
    }
   ],
   "source": [
    "ar6[0]"
   ]
  },
  {
   "cell_type": "code",
   "execution_count": 56,
   "id": "ba0ac6a3-43d2-4c93-a06c-77380988d1f1",
   "metadata": {},
   "outputs": [
    {
     "data": {
      "text/plain": [
       "array([[ 3,  5,  8],\n",
       "       [10, 12, 15]])"
      ]
     },
     "execution_count": 56,
     "metadata": {},
     "output_type": "execute_result"
    }
   ],
   "source": [
    "ar6[2]"
   ]
  },
  {
   "cell_type": "code",
   "execution_count": 57,
   "id": "a33d5432-ebde-434b-9b9b-abfffb416e2d",
   "metadata": {},
   "outputs": [
    {
     "data": {
      "text/plain": [
       "np.int64(1)"
      ]
     },
     "execution_count": 57,
     "metadata": {},
     "output_type": "execute_result"
    }
   ],
   "source": [
    "ar6[0][0][0]"
   ]
  },
  {
   "cell_type": "markdown",
   "id": "b5e1459e-74f9-4f87-949d-f2346266140c",
   "metadata": {},
   "source": [
    "**SCALAR EXPRESSIONS**\n",
    "Multiply,divide,power,add,substract"
   ]
  },
  {
   "cell_type": "code",
   "execution_count": 58,
   "id": "b6ea77c3-ceec-40f2-9139-8a49f62f498b",
   "metadata": {},
   "outputs": [
    {
     "data": {
      "text/plain": [
       "array([[ 1,  2,  3,  1,  4,  7],\n",
       "       [ 4,  5,  6,  3,  5,  8],\n",
       "       [ 7,  8,  9, 10, 12, 15]])"
      ]
     },
     "execution_count": 58,
     "metadata": {},
     "output_type": "execute_result"
    }
   ],
   "source": [
    "ar5"
   ]
  },
  {
   "cell_type": "code",
   "execution_count": 59,
   "id": "349efe27-76b6-4707-be73-5c7e8b0991fd",
   "metadata": {},
   "outputs": [
    {
     "data": {
      "text/plain": [
       "array([[ 2,  3,  4,  2,  5,  8],\n",
       "       [ 5,  6,  7,  4,  6,  9],\n",
       "       [ 8,  9, 10, 11, 13, 16]])"
      ]
     },
     "execution_count": 59,
     "metadata": {},
     "output_type": "execute_result"
    }
   ],
   "source": [
    "np.add(ar5,1)"
   ]
  },
  {
   "cell_type": "markdown",
   "id": "0f5c3f0e-e2b2-4500-b2f6-68ca3f901b36",
   "metadata": {},
   "source": [
    "**VECTOR OPERATIONS**"
   ]
  },
  {
   "cell_type": "code",
   "execution_count": 63,
   "id": "a3bf4d36-5afe-4ca7-9086-948f3e830351",
   "metadata": {},
   "outputs": [
    {
     "data": {
      "text/plain": [
       "[array([[1, 2, 3],\n",
       "        [4, 5, 6]]),\n",
       " array([[7, 8, 9],\n",
       "        [1, 4, 7]]),\n",
       " array([[ 3,  5,  8],\n",
       "        [10, 12, 15]])]"
      ]
     },
     "execution_count": 63,
     "metadata": {},
     "output_type": "execute_result"
    }
   ],
   "source": [
    "ar6"
   ]
  },
  {
   "cell_type": "code",
   "execution_count": 66,
   "id": "1bb81a60-0c4a-4918-806d-1dfb518fb9b3",
   "metadata": {},
   "outputs": [
    {
     "data": {
      "text/plain": [
       "array([[ 7, 16, 27],\n",
       "       [ 4, 20, 42]])"
      ]
     },
     "execution_count": 66,
     "metadata": {},
     "output_type": "execute_result"
    }
   ],
   "source": [
    "ar7 = np.add(ar6[0],ar6[1])\n",
    "ar8 = np.multiply(ar6[0],ar6[1])\n",
    "ar8"
   ]
  },
  {
   "cell_type": "code",
   "execution_count": 67,
   "id": "58b8715c-23db-4190-90f8-75bc6b1cdd61",
   "metadata": {},
   "outputs": [
    {
     "data": {
      "text/plain": [
       "array([[0.14285714, 0.25      , 0.33333333],\n",
       "       [4.        , 1.25      , 0.85714286]])"
      ]
     },
     "execution_count": 67,
     "metadata": {},
     "output_type": "execute_result"
    }
   ],
   "source": [
    "ar9 = np.divide(ar6[0],ar6[1])\n",
    "ar9"
   ]
  },
  {
   "cell_type": "code",
   "execution_count": 68,
   "id": "47173c51-3bad-4e71-ab52-4d266782d158",
   "metadata": {},
   "outputs": [
    {
     "data": {
      "text/plain": [
       "array([[1., 1., 1.],\n",
       "       [4., 2., 1.]])"
      ]
     },
     "execution_count": 68,
     "metadata": {},
     "output_type": "execute_result"
    }
   ],
   "source": [
    "np.ceil(ar9)"
   ]
  },
  {
   "cell_type": "code",
   "execution_count": 69,
   "id": "a1bb3f2a-f120-4ac6-9732-5312e2a8e7eb",
   "metadata": {},
   "outputs": [
    {
     "data": {
      "text/plain": [
       "array([[0., 0., 0.],\n",
       "       [4., 1., 0.]])"
      ]
     },
     "execution_count": 69,
     "metadata": {},
     "output_type": "execute_result"
    }
   ],
   "source": [
    "np.floor(ar9)"
   ]
  },
  {
   "cell_type": "code",
   "execution_count": 70,
   "id": "69c41af5-b89c-4357-b091-1202b89a2b64",
   "metadata": {},
   "outputs": [
    {
     "data": {
      "text/plain": [
       "array([[0., 0., 0.],\n",
       "       [4., 1., 1.]])"
      ]
     },
     "execution_count": 70,
     "metadata": {},
     "output_type": "execute_result"
    }
   ],
   "source": [
    "np.round(ar9)"
   ]
  },
  {
   "cell_type": "markdown",
   "id": "618d0ad3-94c7-40d8-b88b-55fad8889d26",
   "metadata": {},
   "source": [
    "**Statistics**"
   ]
  },
  {
   "cell_type": "code",
   "execution_count": 71,
   "id": "ba38170f-2ff7-4113-bb8f-f9aa23383f3f",
   "metadata": {},
   "outputs": [
    {
     "data": {
      "text/plain": [
       "np.float64(6.111111111111111)"
      ]
     },
     "execution_count": 71,
     "metadata": {},
     "output_type": "execute_result"
    }
   ],
   "source": [
    "np.mean(ar5)"
   ]
  },
  {
   "cell_type": "code",
   "execution_count": 72,
   "id": "9f576eb4-db5c-46bb-9ad4-53673d51d48c",
   "metadata": {},
   "outputs": [
    {
     "data": {
      "text/plain": [
       "array([ 4.        ,  5.        ,  6.        ,  4.66666667,  7.        ,\n",
       "       10.        ])"
      ]
     },
     "execution_count": 72,
     "metadata": {},
     "output_type": "execute_result"
    }
   ],
   "source": [
    "np.mean(ar5,axis=0)"
   ]
  },
  {
   "cell_type": "code",
   "execution_count": 73,
   "id": "6e92e921-7429-4518-a841-4e102cda6f38",
   "metadata": {},
   "outputs": [
    {
     "data": {
      "text/plain": [
       "array([ 3.        ,  5.16666667, 10.16666667])"
      ]
     },
     "execution_count": 73,
     "metadata": {},
     "output_type": "execute_result"
    }
   ],
   "source": [
    "np.mean(ar5,axis=1)"
   ]
  },
  {
   "cell_type": "code",
   "execution_count": 74,
   "id": "110236c0-8bd0-48b4-960c-f567a972ec0e",
   "metadata": {},
   "outputs": [
    {
     "data": {
      "text/plain": [
       "np.float64(5.5)"
      ]
     },
     "execution_count": 74,
     "metadata": {},
     "output_type": "execute_result"
    }
   ],
   "source": [
    "np.median(ar5)"
   ]
  },
  {
   "cell_type": "code",
   "execution_count": 75,
   "id": "e8a3ee58-b383-4164-b1f2-9cbe237a7e36",
   "metadata": {},
   "outputs": [
    {
     "data": {
      "text/plain": [
       "array([2.5, 5. , 9.5])"
      ]
     },
     "execution_count": 75,
     "metadata": {},
     "output_type": "execute_result"
    }
   ],
   "source": [
    "np.median(ar5,axis=1)"
   ]
  },
  {
   "cell_type": "code",
   "execution_count": 76,
   "id": "1fc5e69d-459d-479a-b86b-9b90178a06dc",
   "metadata": {},
   "outputs": [
    {
     "data": {
      "text/plain": [
       "np.int64(1)"
      ]
     },
     "execution_count": 76,
     "metadata": {},
     "output_type": "execute_result"
    }
   ],
   "source": [
    "np.min(ar5)"
   ]
  },
  {
   "cell_type": "code",
   "execution_count": 77,
   "id": "4468837b-51da-4425-87eb-290218a7baf2",
   "metadata": {},
   "outputs": [
    {
     "data": {
      "text/plain": [
       "array([1, 2, 3, 1, 4, 7])"
      ]
     },
     "execution_count": 77,
     "metadata": {},
     "output_type": "execute_result"
    }
   ],
   "source": [
    "np.min(ar5,axis=0)"
   ]
  },
  {
   "cell_type": "code",
   "execution_count": 78,
   "id": "85034e46-67c0-4ef8-956b-20efcaa130d1",
   "metadata": {},
   "outputs": [
    {
     "data": {
      "text/plain": [
       "array([ 7,  8,  9, 10, 12, 15])"
      ]
     },
     "execution_count": 78,
     "metadata": {},
     "output_type": "execute_result"
    }
   ],
   "source": [
    "np.max(ar5,axis=0)"
   ]
  },
  {
   "cell_type": "code",
   "execution_count": 79,
   "id": "4c9b43fd-7769-4dc2-b9e7-e9accfaae3bb",
   "metadata": {},
   "outputs": [],
   "source": [
    "ar10=np.array([2,5,3,8,0,4,1,6,9])"
   ]
  },
  {
   "cell_type": "code",
   "execution_count": 80,
   "id": "48f81af2-2ecc-4143-95f2-f7c022f68cc4",
   "metadata": {},
   "outputs": [
    {
     "data": {
      "text/plain": [
       "array([[ 1,  2,  3,  1,  4,  7],\n",
       "       [ 4,  5,  6,  3,  5,  8],\n",
       "       [ 7,  8,  9, 10, 12, 15]])"
      ]
     },
     "execution_count": 80,
     "metadata": {},
     "output_type": "execute_result"
    }
   ],
   "source": [
    "ar5"
   ]
  },
  {
   "cell_type": "code",
   "execution_count": null,
   "id": "71441ece-43e3-483c-b1ec-2346516664db",
   "metadata": {},
   "outputs": [],
   "source": []
  }
 ],
 "metadata": {
  "kernelspec": {
   "display_name": "Python 3 (ipykernel)",
   "language": "python",
   "name": "python3"
  },
  "language_info": {
   "codemirror_mode": {
    "name": "ipython",
    "version": 3
   },
   "file_extension": ".py",
   "mimetype": "text/x-python",
   "name": "python",
   "nbconvert_exporter": "python",
   "pygments_lexer": "ipython3",
   "version": "3.12.4"
  }
 },
 "nbformat": 4,
 "nbformat_minor": 5
}
